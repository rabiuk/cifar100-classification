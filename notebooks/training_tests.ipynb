{
 "cells": [
  {
   "cell_type": "code",
   "execution_count": 2,
   "metadata": {},
   "outputs": [],
   "source": [
    "import sys\n",
    "sys.path.append('..')  # Adds the parent directory to Python path\n",
    "\n",
    "# Import the data loader from your src folder\n",
    "from src.data_loader import load_data"
   ]
  },
  {
   "cell_type": "code",
   "execution_count": 3,
   "metadata": {},
   "outputs": [
    {
     "name": "stdout",
     "output_type": "stream",
     "text": [
      "Files already downloaded and verified\n",
      "Files already downloaded and verified\n",
      "Batch of images shape: torch.Size([64, 3, 32, 32])\n",
      "Batch of labels: torch.Size([64])\n"
     ]
    }
   ],
   "source": [
    "# Load data with preprocessing and augmentation\n",
    "train_loader, test_loader = load_data(batch_size=64, data_augmentation=True)\n",
    "\n",
    "# Check the shapes of images and labels from the train loader\n",
    "images, labels = next(iter(train_loader))\n",
    "print(f\"Batch of images shape: {images.shape}\")\n",
    "print(f\"Batch of labels: {labels.shape}\")"
   ]
  },
  {
   "cell_type": "code",
   "execution_count": 4,
   "metadata": {},
   "outputs": [],
   "source": [
    "# Display a sample batch of images to confirm preprocessing\n",
    "import matplotlib.pyplot as plt"
   ]
  },
  {
   "cell_type": "code",
   "execution_count": 6,
   "metadata": {},
   "outputs": [
    {
     "data": {
      "image/png": "[encoded data removed]",
      "text/plain": [
       "<Figure size 1080x360 with 5 Axes>"
      ]
     },
     "metadata": {
      "needs_background": "light"
     },
     "output_type": "display_data"
    }
   ],
   "source": [
    "def show_batch(images, labels):\n",
    "    # CIFAR-100 class names\n",
    "    CIFAR100_CLASSES = [\n",
    "        'apple', 'aquarium_fish', 'baby', 'bear', 'beaver', 'bed', 'bee', 'beetle', 'bicycle', 'bottle',\n",
    "        'bowl', 'boy', 'bridge', 'bus', 'butterfly', 'camel', 'can', 'castle', 'caterpillar', 'cattle',\n",
    "        'chair', 'chimpanzee', 'clock', 'cloud', 'cockroach', 'couch', 'crab', 'crocodile', 'cup', 'dinosaur',\n",
    "        'dolphin', 'elephant', 'flatfish', 'forest', 'fox', 'girl', 'hamster', 'house', 'kangaroo', 'keyboard',\n",
    "        'lamp', 'lawn_mower', 'leopard', 'lion', 'lizard', 'lobster', 'man', 'maple_tree', 'motorcycle', 'mountain',\n",
    "        'mouse', 'mushroom', 'oak_tree', 'orange', 'orchid', 'otter', 'palm_tree', 'pear', 'pickup_truck', 'pine_tree',\n",
    "        'plain', 'plate', 'poppy', 'porcupine', 'possum', 'rabbit', 'raccoon', 'ray', 'road', 'rocket',\n",
    "        'rose', 'sea', 'seal', 'shark', 'shrew', 'skunk', 'skyscraper', 'snail', 'snake', 'spider',\n",
    "        'squirrel', 'streetcar', 'sunflower', 'sweet_pepper', 'table', 'tank', 'telephone', 'television', 'tiger', 'tractor',\n",
    "        'train', 'trout', 'tulip', 'turtle', 'wardrobe', 'whale', 'willow_tree', 'wolf', 'woman', 'worm'\n",
    "    ]\n",
    "    \n",
    "    # Undo normalization for visualization\n",
    "    CIFAR100_MEAN = (0.5071, 0.4867, 0.4408)\n",
    "    CIFAR100_STD = (0.2675, 0.2565, 0.2761)\n",
    "    images = images.clone()\n",
    "    for i, (mean, std) in enumerate(zip(CIFAR100_MEAN, CIFAR100_STD)):\n",
    "        images[:, i, :, :] = images[:, i, :, :] * std + mean\n",
    "\n",
    "    fig, axes = plt.subplots(1, len(images), figsize=(15, 5))\n",
    "    for img, label, ax in zip(images, labels, axes):\n",
    "        ax.imshow(img.permute(1, 2, 0))\n",
    "        label_num = label.item()\n",
    "        class_name = CIFAR100_CLASSES[label_num]\n",
    "        ax.set_title(f\"#{label_num}: {class_name}\", pad=10)\n",
    "        ax.axis('off')\n",
    "    plt.tight_layout()\n",
    "    plt.show()\n",
    "\n",
    "# Visualize a few images\n",
    "show_batch(images[:5], labels[:5])"
   ]
  },
  {
   "cell_type": "code",
   "execution_count": 7,
   "metadata": {},
   "outputs": [
    {
     "name": "stdout",
     "output_type": "stream",
     "text": [
      "Shape of test.csv: (10000, 3073)\n",
      "   ID   pixel_1   pixel_2   pixel_3   pixel_4   pixel_5   pixel_6   pixel_7  \\\n",
      "0   0 -1.474270 -1.471011 -1.388761 -1.155942 -0.803701 -0.631944 -0.539918   \n",
      "1   1 -1.895701 -1.895701 -1.895701 -1.895701 -1.895701 -1.895701 -1.895701   \n",
      "2   2 -0.107172 -0.033872 -0.019212 -0.019212 -0.019212 -0.019212 -0.019212   \n",
      "3   3 -1.118717 -1.074737 -0.063192  0.523211 -0.033872 -1.206678 -1.133377   \n",
      "4   4 -1.895701 -1.895701 -1.895701 -1.895701 -1.895701 -1.895701 -1.895701   \n",
      "\n",
      "    pixel_8   pixel_9  ...  pixel_3063  pixel_3064  pixel_3065  pixel_3066  \\\n",
      "0 -0.495398 -0.430018  ...   -0.762173   -0.675418   -0.627466   -0.623803   \n",
      "1 -1.895701 -1.895701  ...   -0.826936   -0.745904   -0.641802   -0.675757   \n",
      "2 -0.048532 -0.077852  ...   -1.014182   -0.914758   -0.914758   -1.056793   \n",
      "3 -0.048532  0.039428  ...   -0.133569    0.505586    0.960095    0.178906   \n",
      "4 -1.895701 -1.895701  ...   -1.596523   -1.596523   -1.596523   -1.596523   \n",
      "\n",
      "   pixel_3067  pixel_3068  pixel_3069  pixel_3070  pixel_3071  pixel_3072  \n",
      "0   -0.611329   -0.588903   -0.818836   -1.106074   -1.422058   -1.435183  \n",
      "1   -0.708668   -0.546166   -0.502579   -0.725217   -1.095471   -1.320470  \n",
      "2   -0.829537   -0.375028   -0.204586   -0.659096   -0.460248   -0.403434  \n",
      "3   -0.431841   -0.190383    0.122093    0.633416    0.860671    0.533992  \n",
      "4   -1.596523   -1.596523   -1.596523   -1.596523   -1.596523   -1.596523  \n",
      "\n",
      "[5 rows x 3073 columns]\n"
     ]
    }
   ],
   "source": [
    "import pandas as pd\n",
    "\n",
    "# Load test.csv to inspect its structure\n",
    "test_df = pd.read_csv('../data/test.csv')\n",
    "print(f\"Shape of test.csv: {test_df.shape}\")\n",
    "print(test_df.head())"
   ]
  },
  {
   "cell_type": "code",
   "execution_count": 12,
   "metadata": {},
   "outputs": [],
   "source": [
    "import sys\n",
    "sys.path.append('..')\n",
    "from src.predict import predict_and_save"
   ]
  },
  {
   "cell_type": "code",
   "execution_count": 13,
   "metadata": {},
   "outputs": [],
   "source": [
    "# Load a dummy model (replace with your trained model)\n",
    "import torch.nn as nn\n",
    "\n",
    "class DummyModel(nn.Module):\n",
    "    def __init__(self):\n",
    "        super(DummyModel, self).__init__()\n",
    "        self.fc = nn.Linear(32 * 32 * 3, 100)  # Dummy fully connected layer\n",
    "\n",
    "    def forward(self, x):\n",
    "        return self.fc(x.view(x.size(0), -1))  # Flatten and pass through FC layer\n",
    "\n",
    "# Replace this with your actual trained model\n",
    "model = DummyModel()"
   ]
  },
  {
   "cell_type": "code",
   "execution_count": 20,
   "metadata": {},
   "outputs": [
    {
     "name": "stdout",
     "output_type": "stream",
     "text": [
      "Submission saved to ../outputs/predictions/submission.csv\n"
     ]
    }
   ],
   "source": [
    "# Path to test.csv and desired submission output\n",
    "test_csv_path = '../data/test.csv'\n",
    "submission_path = '../outputs/predictions/submission.csv'\n",
    "\n",
    "# Generate predictions and save submission file\n",
    "predict_and_save(model, test_csv_path, submission_path)"
   ]
  },
  {
   "cell_type": "code",
   "execution_count": 21,
   "metadata": {},
   "outputs": [
    {
     "name": "stdout",
     "output_type": "stream",
     "text": [
      "   ID  LABEL\n",
      "0   0     13\n",
      "1   1      1\n",
      "2   2     13\n",
      "3   3     13\n",
      "4   4     96\n",
      "Number of rows: 10000\n"
     ]
    }
   ],
   "source": [
    "import pandas as pd\n",
    "\n",
    "submission_df = pd.read_csv('../outputs/predictions/submission.csv')\n",
    "print(submission_df.head())\n",
    "print(f\"Number of rows: {submission_df.shape[0]}\")\n"
   ]
  },
  {
   "cell_type": "code",
   "execution_count": 23,
   "metadata": {},
   "outputs": [
    {
     "name": "stdout",
     "output_type": "stream",
     "text": [
      "[13  1 96 68 49 36 63 42 38 75 90 77 71 74 67 93  2 57  5 56 17 91 62  8\n",
      " 80 46 34 11 84 19 72 82 43 65 98 83 53 99 73 69 94 45 39 20 22 40 87 15\n",
      " 60 41  6 54 26 78 48 14 16 44 28 55 31  9 27 64 51 79 66  3 18 12  0 35\n",
      " 24 70  4 37  7 58 32 29 50 23 97 59 21 25 85 88 61 33 47 89 76 92 95 10\n",
      " 30 52 81 86]\n"
     ]
    }
   ],
   "source": [
    "# Confirm that the LABEL column contains valid class indices (0-99).\n",
    "print(submission_df['LABEL'].unique())"
   ]
  }
 ],
 "metadata": {
  "kernelspec": {
   "display_name": "Python 3",
   "language": "python",
   "name": "python3"
  },
  "language_info": {
   "codemirror_mode": {
    "name": "ipython",
    "version": 3
   },
   "file_extension": ".py",
   "mimetype": "text/x-python",
   "name": "python",
   "nbconvert_exporter": "python",
   "pygments_lexer": "ipython3",
   "version": "3.8.10"
  }
 },
 "nbformat": 4,
 "nbformat_minor": 2
}
